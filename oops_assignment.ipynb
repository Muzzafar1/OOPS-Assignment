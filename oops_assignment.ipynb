{
  "nbformat": 4,
  "nbformat_minor": 0,
  "metadata": {
    "colab": {
      "provenance": []
    },
    "kernelspec": {
      "name": "python3",
      "display_name": "Python 3"
    },
    "language_info": {
      "name": "python"
    }
  },
  "cells": [
    {
      "cell_type": "markdown",
      "source": [
        "Q1. What is Object-Oriented Programming (OOP) ?\n",
        "- OOP is a programming paradigm based on the concept of \"objects\", which contain data and methods. It promotes modular, reusable, and organized code using principles like encapsulation, inheritance, abstraction, and polymorphism.\n",
        "\n",
        "\n",
        "Q2.What is a class in OOP ?\n",
        "\n",
        "- A class is a blueprint for creating objects. It defines attributes (variables) and behaviors (methods) that the objects created from the class will have.\n",
        "\n",
        "Q3. What is an object in OOP ?\n",
        "\n",
        "- An object is an instance of a class. It is a concrete entity based on a class with real values stored in its attributes.\n",
        "\n",
        "Q4. What is the difference between abstraction and encapsulation ?\n",
        "\n",
        "- In Object-Oriented Programming (OOP), abstraction and encapsulation are fundamental concepts that promote code organization and maintainability. Abstraction focuses on simplifying complex systems by hiding unnecessary details and exposing only essential functionalities, while encapsulation bundles data and methods within a single unit, restricting access to the internal workings and protecting data integrity.\n",
        "\n",
        "Q5. What are dunder methods in Python ?\n",
        "- Dunder methods, also known as magic methods, are special methods in Python that begin and end with double underscores (e.g., __init__, __str__, __len__). They are used to implement operator overloading and customize class behavior. Dunder is short for \"double underscore.\" These methods enable objects of a class to interact with built-in functions and operators in Python.\n",
        "\n",
        "Q6. Explain the concept of inheritance in OOP ?\n",
        "- Inheritance in Object-Oriented Programming (OOP) is a mechanism where a new class (child class or derived class) inherits attributes and methods from an existing class (parent class or base class). This allows for code reusability and promotes a hierarchical class structure. Essentially, a child class \"is a\" version of its parent class.\n",
        "\n",
        "Q7. What is polymorphism in OOP ?\n",
        "- In Object-Oriented Programming (OOP), polymorphism means \"many forms.\" It allows objects of different classes to be treated as objects of a common superclass, enabling code reuse and flexibility. This is achieved through techniques like method overriding and overloading, allowing the same method name to be used with different implementations across various classes.\n",
        "\n",
        "Q8. How is encapsulation achieved in Python ?\n",
        "- Encapsulation in Python is achieved by restricting access to attributes and methods within a class, preventing external modification or direct access. It is implemented using access modifiers, primarily through naming conventions with underscores.Encapsulation helps in data hiding and protects the integrity of the object's state, promoting modularity and maintainability.\n",
        "\n",
        "Q9. What is a constructor in Python ?\n",
        "- A constructor in Python is a special method used to initialize objects of a class. It is automatically called when an object is created. The constructor is defined using the name __init__. Its primary purpose is to set up the initial state of an object by assigning values to its attributes.\n",
        "\n",
        "Q10. What are class and static methods in Python ?\n",
        "- Class methods and static methods are special types of methods in Python classes that differ from regular instance methods in how they are called and how they access class and instance data.\n",
        "Class methods: are bound to the class and not the instance of the class. They receive the class itself as the first argument, conventionally named cls.\n",
        "- Class methods are defined using the @classmethod decorator. They can access and modify class-level attributes but cannot directly access instance-level attributes. Class methods are often used as factory methods to create instances of the class or to perform operations that relate to the class as a whole.\n",
        "- Static methods: are also bound to the class and not the instance of the class. They do not receive any special first argument (neither self nor cls). Static methods are defined using the @staticmethod decorator. They are essentially regular functions that are placed within the class namespace for organizational purposes. Static methods cannot access or modify class or instance attributes. They are often used for utility functions that do not depend on the state of the class or its instances.\n",
        "\n",
        "Q11. What is method overloading in Python ?\n",
        "- Method overloading in Python refers to the possibility of defining multiple methods with the same name within a class, as long as their signatures (number and/or type of arguments) are different. However, Python does not natively support method overloading in the same way as some other languages like Java or C++. Instead, it relies on techniques such as default arguments, variable-length argument lists (** args and ** kwargs), and conditional logic to achieve similar functionality.\n",
        "\n",
        "Q12. What is method overriding in OOP ?\n",
        "- Method overriding in object-oriented programming (OOP) is a mechanism where a subclass provides a specific implementation for a method that is already defined in its superclass. This allows the subclass to modify or extend the behavior of the inherited method, while still maintaining the same method name and signature.\n",
        "\n",
        "Q13. What is a property decorator in Python ?\n",
        "- In Python, a property decorator is a built-in feature that allows methods to be accessed like attributes. It provides a way to encapsulate the logic for getting, setting, and deleting an attribute within a class, without requiring explicit method calls. The @property decorator is used to define the getter method, while @attribute.setter and @attribute.deleter are used for the setter and deleter methods, respectively.\n",
        "\n",
        "Q14. Why is polymorphism important in OOP ?\n",
        "- Polymorphism is crucial in Object-Oriented Programming (OOP) because it enables code reuse, flexibility, and extensibility. It allows objects of different classes to be treated as objects of a common type, simplifying code and making it easier to adapt to new situations.\n",
        "\n",
        "Q15. What is an abstract class in Python ?\n",
        "- An abstract class in Python is a class that cannot be instantiated directly and serves as a blueprint for other classes. It defines methods that subclasses must implement, ensuring a consistent interface. Abstract classes are created using the abc module and the ABC class as a metaclass. Abstract methods are declared using the @abstractmethod decorator and have no implementation in the abstract class. Subclasses are required to provide concrete implementations for these abstract methods. If a subclass does not implement all abstract methods of its parent abstract class, it also becomes an abstract class.\n",
        "\n",
        "Q16. What are the advantages of OOP ?\n",
        "- Object-oriented programming (OOP) offers numerous advantages over other programming paradigms, including enhanced code organization, reusability, and maintainability. It facilitates modularity, making code easier to understand, debug, and modify. OOP also promotes code reuse through inheritance and polymorphism, leading to increased efficiency and productivity.\n",
        "\n",
        "Q17. What is the difference between a class variable and an instance variable ?\n",
        "- In object-oriented programming, a class variable (also known as a static variable) is shared by all instances (objects) of a class, while an instance variable is unique to each instance.\n",
        "\n",
        "Q18. What is multiple inheritance in Python?\n",
        "- Multiple inheritance in Python is a feature that allows a class to inherit attributes and methods from more than one parent class. This enables a class to combine functionalities from different sources, creating a more versatile and specialized class. When a class inherits from multiple parent classes, it gains access to all the attributes and methods of those parent classes. If there are methods with the same name in multiple parent classes, Python follows a method resolution order (MRO) to determine which method to call. The MRO is typically determined using the C3 linearization algorithm, which ensures a predictable and consistent order of method resolution.\n",
        "\n",
        "Q19. Explain the purpose of \"__str__\" and ‘__repr__’ ‘ methods in Python?\n",
        "\n",
        "- In Python, __str__ and __repr__ are special methods used to define how objects are represented as strings. They serve different purposes and are intended for different audiences.\n",
        "- __str__(self): This method is meant to return a user-friendly, informal string representation of an object. It is called by the built-in str() function and implicitly by the print() function. The goal is to provide a readable output for end-users.\n",
        "- __repr__(self): This method is meant to return a more detailed, unambiguous string representation of an object. It is called by the built-in repr() function and is often used for debugging, logging, and by developers. Ideally, the string returned by __repr__ should be such that it can be used to recreate the object using eval(), although this is not always possible or necessary.\n",
        "\n",
        "Q20. What is the significance of the ‘super()’ function in Python ?\n",
        "- super() is used to call the parent class method or constructor. It helps in method resolution order (MRO) especially in multiple inheritance.super() ensures that methods are called in the correct order, following the MRO. This is particularly important in multiple inheritance scenarios where a class inherits from multiple parent classes.\n",
        "\n",
        "Q21. What is the significance of the __del__ method in Python ?\n",
        "- The __del__ method, also known as a destructor, in Python is called when an object is about to be destroyed. It provides an opportunity to perform cleanup actions, such as releasing external resources or finalizing operations before the object's memory is reclaimed by the garbage collector. However, reliance on __del__ for critical resource management is discouraged due to its unpredictable timing and potential issues.\n",
        "\n",
        "Q22. What is the difference between @staticmethod and @classmethod in Python ?\n",
        "- The key differences between @staticmethod and @classmethod in Python involve their interaction with the class and its instances:\n",
        "- @staticmethod:\n",
        "It is a function defined within a class that does not receive the class or instance as an implicit first argument.\n",
        "It behaves like a regular function but is logically associated with the class.\n",
        "It cannot access or modify class-specific attributes.\n",
        "It is used for utility functions that are related to the class but don't depend on its state.\n",
        "- @classmethod:\n",
        "It receives the class itself as the first argument, conventionally named cls.\n",
        "It can access and modify class-level attributes.\n",
        "It cannot access instance-specific attributes directly.\n",
        "It is often used for factory methods or to perform operations that involve the class as a whole.\n",
        "\n",
        "Q23. How does polymorphism work in Python with inheritance ?\n",
        "- Polymorphism in Python, in the context of inheritance, allows objects of different classes to respond to the same method call in a way that is specific to their class. This is achieved through method overriding, where a subclass provides its own implementation of a method that is already defined in its parent class. When a method is called on an object, Python checks the object's class for the method implementation. If the method is found in the class, it is executed. If not, Python searches for the method in the parent class and so on up the inheritance hierarchy.\n",
        "When a subclass overrides a method, it essentially replaces the parent class's implementation with its own. This means that when the method is called on an object of the subclass, the subclass's version of the method will be executed, instead of the parent's. This mechanism enables polymorphism, as different objects can respond differently to the same method call based on their class.\n",
        "\n",
        "Q24. What is method chaining in Python OOP ?\n",
        "- Method chaining in Python is a programming technique used in object-oriented programming where multiple methods are called sequentially on the same object in a single line of code. This is achieved by having each method in the chain return the object instance (self) after performing its operation. This allows subsequent methods to be called directly on the result of the previous method, creating a chain of method calls.\n",
        "\n",
        "Q25.  What is the purpose of the __call__ method in Python?\n",
        "- The primary purpose of __call__ is to create objects that act like functions, allowing for more flexible and expressive code. It is often used in situations where you need to maintain state or context between calls, or when you want to encapsulate a specific operation within an object."
      ],
      "metadata": {
        "id": "0mDvhEeRqFFS"
      }
    },
    {
      "cell_type": "code",
      "source": [
        "#  Create a parent class Animal with a method speak() that prints a generic message. Create a child class Dog that overrides the speak() method to print \"Bark!\".\n",
        "\n",
        "# Parent class\n",
        "class Animal:\n",
        "    def speak(self):\n",
        "        print(\"Animal makes a sound.\")\n",
        "\n",
        "# Child class\n",
        "class Dog(Animal):\n",
        "    def speak(self):\n",
        "        print(\"Bark!\")\n",
        "\n",
        "# Test the classes\n",
        "a = Animal()\n",
        "a.speak()  # Output: Animal makes a sound.\n",
        "\n",
        "d = Dog()\n",
        "d.speak()  # Output: Bark!"
      ],
      "metadata": {
        "colab": {
          "base_uri": "https://localhost:8080/"
        },
        "id": "pQyeMfYw9UL5",
        "outputId": "a23291c1-1ade-46fc-b48c-466e99a189a0"
      },
      "execution_count": 3,
      "outputs": [
        {
          "output_type": "stream",
          "name": "stdout",
          "text": [
            "Animal makes a sound.\n",
            "Bark!\n"
          ]
        }
      ]
    },
    {
      "cell_type": "code",
      "source": [
        "# Write a program to create an abstract class Shape with a method area(). Derive classes Circle and Rectangle from it and implement the area() method in both.\n",
        "\n",
        "from abc import ABC, abstractmethod\n",
        "import math\n",
        "\n",
        "# Abstract class\n",
        "class Shape(ABC):\n",
        "    @abstractmethod\n",
        "    def area(self):\n",
        "        pass\n",
        "\n",
        "# Circle class\n",
        "class Circle(Shape):\n",
        "    def __init__(self, radius):\n",
        "        self.radius = radius\n",
        "\n",
        "    def area(self):\n",
        "        return math.pi * self.radius ** 2\n",
        "\n",
        "# Rectangle class\n",
        "class Rectangle(Shape):\n",
        "    def __init__(self, width, height):\n",
        "        self.width = width\n",
        "        self.height = height\n",
        "\n",
        "    def area(self):\n",
        "        return self.width * self.height\n",
        "\n",
        "# Test the classes\n",
        "c = Circle(5)\n",
        "print(\"Circle Area:\", c.area())  # Output: 78.54...\n",
        "\n",
        "r = Rectangle(4, 6)\n",
        "print(\"Rectangle Area:\", r.area())  # Output: 24\n"
      ],
      "metadata": {
        "colab": {
          "base_uri": "https://localhost:8080/"
        },
        "id": "KR8vCDOoAUcg",
        "outputId": "2b83cc9e-cffb-4725-bb40-35833776b897"
      },
      "execution_count": 4,
      "outputs": [
        {
          "output_type": "stream",
          "name": "stdout",
          "text": [
            "Circle Area: 78.53981633974483\n",
            "Rectangle Area: 24\n"
          ]
        }
      ]
    },
    {
      "cell_type": "code",
      "source": [
        " # Implement a multi-level inheritance scenario where a class Vehicle has an attribute type. Derive a class Car and further derive a class ElectricCar that adds a battery attribute.\n",
        "\n",
        " # Base class\n",
        "class Vehicle:\n",
        "    def __init__(self, type):\n",
        "        self.type = type\n",
        "\n",
        "# Derived class\n",
        "class Car(Vehicle):\n",
        "    def __init__(self, type, brand):\n",
        "        super().__init__(type)\n",
        "        self.brand = brand\n",
        "\n",
        "# Further derived class\n",
        "class ElectricCar(Car):\n",
        "    def __init__(self, type, brand, battery):\n",
        "        super().__init__(type, brand)\n",
        "        self.battery = battery\n",
        "\n",
        "# Test\n",
        "ecar = ElectricCar(\"4-wheeler\", \"Tesla\", \"100 kWh\")\n",
        "print(f\"Type: {ecar.type}, Brand: {ecar.brand}, Battery: {ecar.battery}\")\n"
      ],
      "metadata": {
        "colab": {
          "base_uri": "https://localhost:8080/"
        },
        "id": "hsTxMVjuA1eI",
        "outputId": "69880060-2459-442c-94ff-da245821040b"
      },
      "execution_count": 5,
      "outputs": [
        {
          "output_type": "stream",
          "name": "stdout",
          "text": [
            "Type: 4-wheeler, Brand: Tesla, Battery: 100 kWh\n"
          ]
        }
      ]
    },
    {
      "cell_type": "code",
      "source": [
        "#  Demonstrate polymorphism by creating a base class Bird with a method fly(). Create two derived classes Sparrow and Penguin that override the fly() method.\n",
        "\n",
        "class Bird:\n",
        "    def fly(self):\n",
        "        print(\"Some birds can fly.\")\n",
        "\n",
        "class Sparrow(Bird):\n",
        "    def fly(self):\n",
        "        print(\"Sparrow flies in the sky.\")\n",
        "\n",
        "class Penguin(Bird):\n",
        "    def fly(self):\n",
        "        print(\"Penguins can't fly, they swim.\")\n",
        "\n",
        "# Test\n",
        "birds = [Sparrow(), Penguin()]\n",
        "for bird in birds:\n",
        "    bird.fly()"
      ],
      "metadata": {
        "colab": {
          "base_uri": "https://localhost:8080/"
        },
        "id": "vlFqVX56BZdx",
        "outputId": "619bc4e3-3ab2-4d85-b1b6-7de387a3b9c3"
      },
      "execution_count": 6,
      "outputs": [
        {
          "output_type": "stream",
          "name": "stdout",
          "text": [
            "Sparrow flies in the sky.\n",
            "Penguins can't fly, they swim.\n"
          ]
        }
      ]
    },
    {
      "cell_type": "code",
      "source": [
        "# Write a program to demonstrate encapsulation by creating a class BankAccount with private attributes balance and methods to deposit, withdraw, and check balance.\n",
        "\n",
        "class BankAccount:\n",
        "    def __init__(self, initial_balance=0):\n",
        "        self.__balance = initial_balance  # private attribute\n",
        "\n",
        "    def deposit(self, amount):\n",
        "        if amount > 0:\n",
        "            self.__balance += amount\n",
        "\n",
        "    def withdraw(self, amount):\n",
        "        if 0 < amount <= self.__balance:\n",
        "            self.__balance -= amount\n",
        "        else:\n",
        "            print(\"Insufficient balance or invalid amount.\")\n",
        "\n",
        "    def check_balance(self):\n",
        "        return self.__balance\n",
        "\n",
        "# Test\n",
        "account = BankAccount(1000)\n",
        "account.deposit(500)\n",
        "account.withdraw(300)\n",
        "print(\"Balance:\", account.check_balance())  # Output: 1200\n"
      ],
      "metadata": {
        "colab": {
          "base_uri": "https://localhost:8080/"
        },
        "id": "KcqgzPYNC0Ry",
        "outputId": "172429c1-1ee1-40e4-8956-ece100a3ed8e"
      },
      "execution_count": 7,
      "outputs": [
        {
          "output_type": "stream",
          "name": "stdout",
          "text": [
            "Balance: 1200\n"
          ]
        }
      ]
    },
    {
      "cell_type": "code",
      "source": [
        "# Demonstrate runtime polymorphism using a method play() in a base class Instrument. Derive classes Guitar and Piano that implement their own version of play().\n",
        "class Instrument:\n",
        "    def play(self):\n",
        "        print(\"Playing an instrument.\")\n",
        "\n",
        "class Guitar(Instrument):\n",
        "    def play(self):\n",
        "        print(\"Strumming the guitar.\")\n",
        "\n",
        "class Piano(Instrument):\n",
        "    def play(self):\n",
        "        print(\"Playing the piano.\")\n",
        "\n",
        "# Test\n",
        "instruments = [Guitar(), Piano()]\n",
        "for inst in instruments:\n",
        "    inst.play()\n"
      ],
      "metadata": {
        "colab": {
          "base_uri": "https://localhost:8080/"
        },
        "id": "heSmdGMkEGsm",
        "outputId": "436cddaa-cc93-44c6-81d4-54e4afcd3479"
      },
      "execution_count": 8,
      "outputs": [
        {
          "output_type": "stream",
          "name": "stdout",
          "text": [
            "Strumming the guitar.\n",
            "Playing the piano.\n"
          ]
        }
      ]
    },
    {
      "cell_type": "code",
      "source": [
        "# Create a class MathOperations with a class method add_numbers() to add two numbers and a static method subtract_numbers() to subtract two numbers.\n",
        "class MathOperations:\n",
        "    @classmethod\n",
        "    def add_numbers(cls, a, b):\n",
        "        return a + b\n",
        "\n",
        "    @staticmethod\n",
        "    def subtract_numbers(a, b):\n",
        "        return a - b\n",
        "\n",
        "# Test\n",
        "print(\"Addition:\", MathOperations.add_numbers(10, 5))       # Output: 15\n",
        "print(\"Subtraction:\", MathOperations.subtract_numbers(10, 5))  # Output: 5\n"
      ],
      "metadata": {
        "colab": {
          "base_uri": "https://localhost:8080/"
        },
        "id": "F7DjG5OUEmHp",
        "outputId": "cbbe2a27-5b80-4d08-bb44-4935c55fd177"
      },
      "execution_count": 9,
      "outputs": [
        {
          "output_type": "stream",
          "name": "stdout",
          "text": [
            "Addition: 15\n",
            "Subtraction: 5\n"
          ]
        }
      ]
    },
    {
      "cell_type": "code",
      "source": [
        "# Implement a class Person with a class method to count the total number of persons created.\n",
        "class Person:\n",
        "    count = 0  # Class variable\n",
        "\n",
        "    def __init__(self, name):\n",
        "        self.name = name\n",
        "        Person.count += 1\n",
        "\n",
        "    @classmethod\n",
        "    def total_persons(cls):\n",
        "        return cls.count\n",
        "\n",
        "# Test\n",
        "p1 = Person(\"Alice\")\n",
        "p2 = Person(\"Bob\")\n",
        "p3 = Person(\"Charlie\")\n",
        "print(\"Total Persons:\", Person.total_persons())  # Output: 3"
      ],
      "metadata": {
        "colab": {
          "base_uri": "https://localhost:8080/"
        },
        "id": "xvqKsRCvGJtz",
        "outputId": "c5ed7517-c31a-4f0f-f1f2-f480ed75af23"
      },
      "execution_count": 10,
      "outputs": [
        {
          "output_type": "stream",
          "name": "stdout",
          "text": [
            "Total Persons: 3\n"
          ]
        }
      ]
    },
    {
      "cell_type": "code",
      "source": [
        "#  Write a class Fraction with attributes numerator and denominator. Override the str method to display the fraction as \"numerator/denominator\".\n",
        "\n",
        "class Fraction:\n",
        "    def __init__(self, numerator, denominator):\n",
        "        self.numerator = numerator\n",
        "        self.denominator = denominator\n",
        "\n",
        "    def __str__(self):\n",
        "        return f\"{self.numerator}/{self.denominator}\"\n",
        "\n",
        "# Test\n",
        "f = Fraction(3, 4)\n",
        "print(f)  # Output: 3/4"
      ],
      "metadata": {
        "colab": {
          "base_uri": "https://localhost:8080/"
        },
        "id": "RHEwQhqUHHDE",
        "outputId": "d06ba26f-f09f-4d03-e092-25af72f4b23a"
      },
      "execution_count": 11,
      "outputs": [
        {
          "output_type": "stream",
          "name": "stdout",
          "text": [
            "3/4\n"
          ]
        }
      ]
    },
    {
      "cell_type": "code",
      "source": [
        "# Demonstrate operator overloading by creating a class Vector and overriding the add method to add two vectors.\n",
        "class Vector:\n",
        "    def __init__(self, x, y):\n",
        "        self.x = x\n",
        "        self.y = y\n",
        "\n",
        "    def __add__(self, other):\n",
        "        return Vector(self.x + other.x, self.y + other.y)\n",
        "\n",
        "    def __str__(self):\n",
        "        return f\"Vector({self.x}, {self.y})\"\n",
        "\n",
        "# Test\n",
        "v1 = Vector(2, 3)\n",
        "v2 = Vector(4, 5)\n",
        "v3 = v1 + v2\n",
        "print(v3)  # Output: Vector(6, 8)"
      ],
      "metadata": {
        "colab": {
          "base_uri": "https://localhost:8080/"
        },
        "id": "SBNg2--uHfm_",
        "outputId": "1b883f72-010e-4465-9004-c9f12e73fc05"
      },
      "execution_count": 12,
      "outputs": [
        {
          "output_type": "stream",
          "name": "stdout",
          "text": [
            "Vector(6, 8)\n"
          ]
        }
      ]
    },
    {
      "cell_type": "code",
      "source": [
        "# Create a class Person with attributes name and age. Add a method greet() that prints \"Hello, my name is {name} and I am {age} years old.\"\n",
        "\n",
        "class Person:\n",
        "    def __init__(self, name, age):\n",
        "        self.name = name\n",
        "        self.age = age\n",
        "\n",
        "    def greet(self):\n",
        "        print(f\"Hello, my name is {self.name} and I am {self.age} years old.\")\n",
        "\n",
        "# Test\n",
        "p = Person(\"Muzzafar\", 33)\n",
        "p.greet() # output Hello, my name is Muzzafar and I am 33 years old."
      ],
      "metadata": {
        "colab": {
          "base_uri": "https://localhost:8080/"
        },
        "id": "DmDzbsHaHwUe",
        "outputId": "088476b8-3c87-4919-86f1-7c0edf6615eb"
      },
      "execution_count": 13,
      "outputs": [
        {
          "output_type": "stream",
          "name": "stdout",
          "text": [
            "Hello, my name is Muzzafar and I am 33 years old.\n"
          ]
        }
      ]
    },
    {
      "cell_type": "code",
      "source": [
        "# Implement a class Student with attributes name and grades. Create a method average_grade() to compute the average of the grades.\n",
        "\n",
        "class Student:\n",
        "    def __init__(self, name, grades):\n",
        "        self.name = name\n",
        "        self.grades = grades\n",
        "\n",
        "    def average_grade(self):\n",
        "        return sum(self.grades) / len(self.grades)\n",
        "\n",
        "# Test\n",
        "s = Student(\"Hidayah\", [85, 90, 78])\n",
        "print(\"Average Grade:\", s.average_grade())  # Output: ~84.33\n"
      ],
      "metadata": {
        "colab": {
          "base_uri": "https://localhost:8080/"
        },
        "id": "47r0H6GgHwly",
        "outputId": "30f78225-cd44-4de4-99d5-13fdded12676"
      },
      "execution_count": 16,
      "outputs": [
        {
          "output_type": "stream",
          "name": "stdout",
          "text": [
            "Average Grade: 84.33333333333333\n"
          ]
        }
      ]
    },
    {
      "cell_type": "code",
      "source": [
        "#  Create a class Rectangle with methods set_dimensions() to set the dimensions and area() to calculate the area.\n",
        "\n",
        "class Rectangle:\n",
        "    def set_dimensions(self, width, height):\n",
        "        self.width = width\n",
        "        self.height = height\n",
        "\n",
        "    def area(self):\n",
        "        return self.width * self.height\n",
        "\n",
        "# Test\n",
        "r = Rectangle()\n",
        "r.set_dimensions(5, 6)\n",
        "print(\"Area:\", r.area())  # Output: 30"
      ],
      "metadata": {
        "colab": {
          "base_uri": "https://localhost:8080/"
        },
        "id": "IfYUlkR6Hwox",
        "outputId": "1ab88284-94c4-47c3-d900-fecca6feb6d3"
      },
      "execution_count": 17,
      "outputs": [
        {
          "output_type": "stream",
          "name": "stdout",
          "text": [
            "Area: 30\n"
          ]
        }
      ]
    },
    {
      "cell_type": "code",
      "source": [
        "# Create a class Employee with a method calculate_salary() that computes the salary based on hours worked and hourly rate. Create a derived class Manager that adds a bonus to the salary.\n",
        "\n",
        "class Employee:\n",
        "    def __init__(self, hours_worked, hourly_rate):\n",
        "        self.hours_worked = hours_worked\n",
        "        self.hourly_rate = hourly_rate\n",
        "\n",
        "    def calculate_salary(self):\n",
        "        return self.hours_worked * self.hourly_rate\n",
        "\n",
        "class Manager(Employee):\n",
        "    def __init__(self, hours_worked, hourly_rate, bonus):\n",
        "        super().__init__(hours_worked, hourly_rate)\n",
        "        self.bonus = bonus\n",
        "\n",
        "    def calculate_salary(self):\n",
        "        return super().calculate_salary() + self.bonus\n",
        "\n",
        "# Test\n",
        "m = Manager(40, 50, 500)\n",
        "print(\"Manager Salary:\", m.calculate_salary())  # Output: 2500\n"
      ],
      "metadata": {
        "colab": {
          "base_uri": "https://localhost:8080/"
        },
        "id": "kaXlznzjHwru",
        "outputId": "2671a114-257e-4e72-cdf6-841b9e58fe02"
      },
      "execution_count": 19,
      "outputs": [
        {
          "output_type": "stream",
          "name": "stdout",
          "text": [
            "Manager Salary: 2500\n"
          ]
        }
      ]
    },
    {
      "cell_type": "code",
      "source": [
        "# Create a class Product with attributes name, price, and quantity. Implement a method total_price() that calculates the total price of the product.\n",
        "\n",
        "class Product:\n",
        "    def __init__(self, name, price, quantity):\n",
        "        self.name = name\n",
        "        self.price = price\n",
        "        self.quantity = quantity\n",
        "\n",
        "    def total_price(self):\n",
        "        return self.price * self.quantity\n",
        "\n",
        "# Test\n",
        "p = Product(\"Laptop\", 800, 2)\n",
        "print(\"Total Price:\", p.total_price())  # Output: 1600\n"
      ],
      "metadata": {
        "colab": {
          "base_uri": "https://localhost:8080/"
        },
        "id": "M4PGA7g1KF1I",
        "outputId": "04b2b3a8-0ed5-4f67-828b-25a083261df2"
      },
      "execution_count": 20,
      "outputs": [
        {
          "output_type": "stream",
          "name": "stdout",
          "text": [
            "Total Price: 1600\n"
          ]
        }
      ]
    },
    {
      "cell_type": "code",
      "source": [
        "# Create a class Animal with an abstract method sound(). Create two derived classes Cow and Sheep that implement the sound() method.\n",
        "\n",
        "from abc import ABC, abstractmethod\n",
        "\n",
        "class Animal(ABC):\n",
        "    @abstractmethod\n",
        "    def sound(self):\n",
        "        pass\n",
        "\n",
        "class Cow(Animal):\n",
        "    def sound(self):\n",
        "        print(\"Moow\")\n",
        "\n",
        "class Sheep(Animal):\n",
        "    def sound(self):\n",
        "        print(\"Baaw\")\n",
        "\n",
        "# Test\n",
        "animals = [Cow(), Sheep()]\n",
        "for animal in animals:\n",
        "    animal.sound() # output Moow, Baaw\n"
      ],
      "metadata": {
        "colab": {
          "base_uri": "https://localhost:8080/"
        },
        "id": "XLO4UV9UKY6u",
        "outputId": "308b0217-1e32-4d76-da22-ae53555e2997"
      },
      "execution_count": 22,
      "outputs": [
        {
          "output_type": "stream",
          "name": "stdout",
          "text": [
            "Moow\n",
            "Baaw\n"
          ]
        }
      ]
    },
    {
      "cell_type": "code",
      "source": [
        "#Create a class Book with attributes title, author, and year_published. Add a method get_book_info() that returns a formatted string with the book's details\n",
        "\n",
        "class Book:\n",
        "    def __init__(self, title, author, year_published):\n",
        "        self.title = title\n",
        "        self.author = author\n",
        "        self.year_published = year_published\n",
        "\n",
        "    def get_book_info(self):\n",
        "        return f\"'{self.title}' by {self.author}, published in {self.year_published}\"\n",
        "\n",
        "# Test\n",
        "b = Book(\"1984\", \"George Orwell\", 1949)\n",
        "print(b.get_book_info())\n",
        "#output '1984' by George Orwell, published in 1949"
      ],
      "metadata": {
        "colab": {
          "base_uri": "https://localhost:8080/"
        },
        "id": "gyPlAmqlLM7i",
        "outputId": "ac9dfb5f-ec5b-4028-b3ea-84dceb4b0f17"
      },
      "execution_count": 23,
      "outputs": [
        {
          "output_type": "stream",
          "name": "stdout",
          "text": [
            "'1984' by George Orwell, published in 1949\n"
          ]
        }
      ]
    },
    {
      "cell_type": "code",
      "source": [
        "#  Create a class House with attributes address and price. Create a derived class Mansion that adds an attribute number_of_rooms.\n",
        "\n",
        "class House:\n",
        "    def __init__(self, address, price):\n",
        "        self.address = address\n",
        "        self.price = price\n",
        "\n",
        "class Mansion(House):\n",
        "    def __init__(self, address, price, number_of_rooms):\n",
        "        super().__init__(address, price)\n",
        "        self.number_of_rooms = number_of_rooms\n",
        "\n",
        "# Test\n",
        "m = Mansion(\"123 Khajoor Street\", 5000000, 15)\n",
        "print(f\"Address: {m.address}, Price: {m.price}, Rooms: {m.number_of_rooms}\")\n",
        "#output Address: 123 khajoor Street, Price: 5000000, Rooms: 15\n"
      ],
      "metadata": {
        "colab": {
          "base_uri": "https://localhost:8080/"
        },
        "id": "ooE_msxdL0x1",
        "outputId": "5122ff3b-db6d-4f2f-cdcf-b14f5fce1e11"
      },
      "execution_count": 24,
      "outputs": [
        {
          "output_type": "stream",
          "name": "stdout",
          "text": [
            "Address: 123 Khajoor Street, Price: 5000000, Rooms: 15\n"
          ]
        }
      ]
    }
  ]
}